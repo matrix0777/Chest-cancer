{
 "cells": [
  {
   "cell_type": "code",
   "execution_count": 1,
   "id": "b29db456",
   "metadata": {},
   "outputs": [],
   "source": [
    "import gdown"
   ]
  },
  {
   "cell_type": "code",
   "execution_count": 2,
   "id": "cdf11533",
   "metadata": {},
   "outputs": [],
   "source": [
    "url = \"https://drive.google.com/file/d/1_TL00EC0Y9ortnQ8OMG7rgEHhSLr1Vua/view?usp=drive_link\""
   ]
  },
  {
   "cell_type": "code",
   "execution_count": 7,
   "id": "4e3002a0",
   "metadata": {},
   "outputs": [
    {
     "data": {
      "text/plain": [
       "'1_TL00EC0Y9ortnQ8OMG7rgEHhSLr1Vua'"
      ]
     },
     "execution_count": 7,
     "metadata": {},
     "output_type": "execute_result"
    }
   ],
   "source": [
    "file_id = url.split(\"/\")[-2]\n",
    "file_id"
   ]
  },
  {
   "cell_type": "code",
   "execution_count": 12,
   "id": "71af6bca",
   "metadata": {},
   "outputs": [
    {
     "name": "stderr",
     "output_type": "stream",
     "text": [
      "Downloading...\n",
      "From (original): https://drive.google.com/uc?/export=download&id=1_TL00EC0Y9ortnQ8OMG7rgEHhSLr1Vua\n",
      "From (redirected): https://drive.google.com/uc?%2Fexport=download&id=1_TL00EC0Y9ortnQ8OMG7rgEHhSLr1Vua&confirm=t&uuid=fb17b4ff-8f7e-455a-a4e0-798ddad12fd2\n",
      "To: /home/dhanu/Desktop/Chest-cancer/research/Chest-CT-Scan-data.zip\n",
      "100%|██████████| 124M/124M [03:46<00:00, 548kB/s]  \n"
     ]
    },
    {
     "data": {
      "text/plain": [
       "'Chest-CT-Scan-data.zip'"
      ]
     },
     "execution_count": 12,
     "metadata": {},
     "output_type": "execute_result"
    }
   ],
   "source": [
    "prefix = 'https://drive.google.com/uc?/export=download&id='\n",
    "gdown.download(prefix+file_id, \"Chest-CT-Scan-data.zip\")"
   ]
  },
  {
   "cell_type": "code",
   "execution_count": null,
   "id": "b3fab035",
   "metadata": {},
   "outputs": [],
   "source": []
  }
 ],
 "metadata": {
  "kernelspec": {
   "display_name": "Chest",
   "language": "python",
   "name": "python3"
  },
  "language_info": {
   "codemirror_mode": {
    "name": "ipython",
    "version": 3
   },
   "file_extension": ".py",
   "mimetype": "text/x-python",
   "name": "python",
   "nbconvert_exporter": "python",
   "pygments_lexer": "ipython3",
   "version": "3.8.20"
  }
 },
 "nbformat": 4,
 "nbformat_minor": 5
}
